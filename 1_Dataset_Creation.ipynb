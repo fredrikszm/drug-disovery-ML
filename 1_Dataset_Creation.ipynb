{
 "cells": [
  {
   "cell_type": "markdown",
   "metadata": {},
   "source": [
    "## Initial Dataset Creation\n",
    "This notebook takes in initial datasets and combines them to form a working dataset that includes all necessary information.\n",
    "- actions dataset has protein and chemical binding pairs\n",
    "- protein_chemical has experimental scores (based on binding affinity) for all possible protein chemical pairs\n",
    "\n",
    "Final result is a dataset with unique protein-chemical binding pairs and their binding affinity scores"
   ]
  },
  {
   "cell_type": "code",
   "execution_count": 3,
   "metadata": {
    "collapsed": true
   },
   "outputs": [],
   "source": [
    "import pandas as pd"
   ]
  },
  {
   "cell_type": "code",
   "execution_count": 4,
   "metadata": {
    "collapsed": true
   },
   "outputs": [],
   "source": [
    "actions = pd.read_table('9606.actions.v5.0.tsv.gz')\n",
    "# reads in file as pandas dataframe"
   ]
  },
  {
   "cell_type": "code",
   "execution_count": 5,
   "metadata": {
    "scrolled": false
   },
   "outputs": [
    {
     "data": {
      "text/html": [
       "<div>\n",
       "<style>\n",
       "    .dataframe thead tr:only-child th {\n",
       "        text-align: right;\n",
       "    }\n",
       "\n",
       "    .dataframe thead th {\n",
       "        text-align: left;\n",
       "    }\n",
       "\n",
       "    .dataframe tbody tr th {\n",
       "        vertical-align: top;\n",
       "    }\n",
       "</style>\n",
       "<table border=\"1\" class=\"dataframe\">\n",
       "  <thead>\n",
       "    <tr style=\"text-align: right;\">\n",
       "      <th></th>\n",
       "      <th>item_id_a</th>\n",
       "      <th>item_id_b</th>\n",
       "      <th>mode</th>\n",
       "      <th>action</th>\n",
       "      <th>a_is_acting</th>\n",
       "      <th>score</th>\n",
       "    </tr>\n",
       "  </thead>\n",
       "  <tbody>\n",
       "    <tr>\n",
       "      <th>0</th>\n",
       "      <td>9606.ENSP00000170630</td>\n",
       "      <td>CIDm00010461</td>\n",
       "      <td>expression</td>\n",
       "      <td>NaN</td>\n",
       "      <td>f</td>\n",
       "      <td>150</td>\n",
       "    </tr>\n",
       "    <tr>\n",
       "      <th>1</th>\n",
       "      <td>CIDm00010461</td>\n",
       "      <td>9606.ENSP00000170630</td>\n",
       "      <td>expression</td>\n",
       "      <td>NaN</td>\n",
       "      <td>t</td>\n",
       "      <td>150</td>\n",
       "    </tr>\n",
       "    <tr>\n",
       "      <th>2</th>\n",
       "      <td>9606.ENSP00000353915</td>\n",
       "      <td>CIDs23627457</td>\n",
       "      <td>binding</td>\n",
       "      <td>NaN</td>\n",
       "      <td>f</td>\n",
       "      <td>191</td>\n",
       "    </tr>\n",
       "    <tr>\n",
       "      <th>3</th>\n",
       "      <td>CIDs23627457</td>\n",
       "      <td>9606.ENSP00000353915</td>\n",
       "      <td>binding</td>\n",
       "      <td>NaN</td>\n",
       "      <td>f</td>\n",
       "      <td>191</td>\n",
       "    </tr>\n",
       "    <tr>\n",
       "      <th>4</th>\n",
       "      <td>9606.ENSP00000256906</td>\n",
       "      <td>CIDs44408029</td>\n",
       "      <td>binding</td>\n",
       "      <td>NaN</td>\n",
       "      <td>f</td>\n",
       "      <td>521</td>\n",
       "    </tr>\n",
       "  </tbody>\n",
       "</table>\n",
       "</div>"
      ],
      "text/plain": [
       "              item_id_a             item_id_b        mode action a_is_acting  \\\n",
       "0  9606.ENSP00000170630          CIDm00010461  expression    NaN           f   \n",
       "1          CIDm00010461  9606.ENSP00000170630  expression    NaN           t   \n",
       "2  9606.ENSP00000353915          CIDs23627457     binding    NaN           f   \n",
       "3          CIDs23627457  9606.ENSP00000353915     binding    NaN           f   \n",
       "4  9606.ENSP00000256906          CIDs44408029     binding    NaN           f   \n",
       "\n",
       "   score  \n",
       "0    150  \n",
       "1    150  \n",
       "2    191  \n",
       "3    191  \n",
       "4    521  "
      ]
     },
     "execution_count": 5,
     "metadata": {},
     "output_type": "execute_result"
    }
   ],
   "source": [
    "actions.head(5)\n",
    "# shows first five rows"
   ]
  },
  {
   "cell_type": "code",
   "execution_count": 6,
   "metadata": {},
   "outputs": [
    {
     "data": {
      "text/plain": [
       "21773491"
      ]
     },
     "execution_count": 6,
     "metadata": {},
     "output_type": "execute_result"
    }
   ],
   "source": [
    "len(actions)\n",
    "# returns number of rows - in this case, the number of protein-chemical pairs\n",
    "# note: actions has duplicate pairs so actual number should be half"
   ]
  },
  {
   "cell_type": "code",
   "execution_count": 7,
   "metadata": {
    "collapsed": true
   },
   "outputs": [],
   "source": [
    "protchem = pd.read_table('9606.protein_chemical.links.detailed.v5.0.tsv.gz')"
   ]
  },
  {
   "cell_type": "code",
   "execution_count": 87,
   "metadata": {},
   "outputs": [
    {
     "data": {
      "text/html": [
       "<div>\n",
       "<style>\n",
       "    .dataframe thead tr:only-child th {\n",
       "        text-align: right;\n",
       "    }\n",
       "\n",
       "    .dataframe thead th {\n",
       "        text-align: left;\n",
       "    }\n",
       "\n",
       "    .dataframe tbody tr th {\n",
       "        vertical-align: top;\n",
       "    }\n",
       "</style>\n",
       "<table border=\"1\" class=\"dataframe\">\n",
       "  <thead>\n",
       "    <tr style=\"text-align: right;\">\n",
       "      <th></th>\n",
       "      <th>chemical</th>\n",
       "      <th>protein</th>\n",
       "      <th>experimental</th>\n",
       "      <th>prediction</th>\n",
       "      <th>database</th>\n",
       "      <th>textmining</th>\n",
       "      <th>combined_score</th>\n",
       "    </tr>\n",
       "  </thead>\n",
       "  <tbody>\n",
       "    <tr>\n",
       "      <th>0</th>\n",
       "      <td>CIDm91758680</td>\n",
       "      <td>9606.ENSP00000257254</td>\n",
       "      <td>0</td>\n",
       "      <td>0</td>\n",
       "      <td>0</td>\n",
       "      <td>278</td>\n",
       "      <td>279</td>\n",
       "    </tr>\n",
       "    <tr>\n",
       "      <th>1</th>\n",
       "      <td>CIDm91758680</td>\n",
       "      <td>9606.ENSP00000302120</td>\n",
       "      <td>0</td>\n",
       "      <td>0</td>\n",
       "      <td>0</td>\n",
       "      <td>154</td>\n",
       "      <td>154</td>\n",
       "    </tr>\n",
       "    <tr>\n",
       "      <th>2</th>\n",
       "      <td>CIDm91758408</td>\n",
       "      <td>9606.ENSP00000006777</td>\n",
       "      <td>0</td>\n",
       "      <td>0</td>\n",
       "      <td>0</td>\n",
       "      <td>225</td>\n",
       "      <td>225</td>\n",
       "    </tr>\n",
       "    <tr>\n",
       "      <th>3</th>\n",
       "      <td>CIDm91758408</td>\n",
       "      <td>9606.ENSP00000056217</td>\n",
       "      <td>0</td>\n",
       "      <td>0</td>\n",
       "      <td>0</td>\n",
       "      <td>178</td>\n",
       "      <td>178</td>\n",
       "    </tr>\n",
       "    <tr>\n",
       "      <th>4</th>\n",
       "      <td>CIDm91758408</td>\n",
       "      <td>9606.ENSP00000216085</td>\n",
       "      <td>0</td>\n",
       "      <td>0</td>\n",
       "      <td>0</td>\n",
       "      <td>225</td>\n",
       "      <td>225</td>\n",
       "    </tr>\n",
       "  </tbody>\n",
       "</table>\n",
       "</div>"
      ],
      "text/plain": [
       "       chemical               protein  experimental  prediction  database  \\\n",
       "0  CIDm91758680  9606.ENSP00000257254             0           0         0   \n",
       "1  CIDm91758680  9606.ENSP00000302120             0           0         0   \n",
       "2  CIDm91758408  9606.ENSP00000006777             0           0         0   \n",
       "3  CIDm91758408  9606.ENSP00000056217             0           0         0   \n",
       "4  CIDm91758408  9606.ENSP00000216085             0           0         0   \n",
       "\n",
       "   textmining  combined_score  \n",
       "0         278             279  \n",
       "1         154             154  \n",
       "2         225             225  \n",
       "3         178             178  \n",
       "4         225             225  "
      ]
     },
     "execution_count": 87,
     "metadata": {},
     "output_type": "execute_result"
    }
   ],
   "source": [
    "protchem.head(5)"
   ]
  },
  {
   "cell_type": "code",
   "execution_count": 88,
   "metadata": {},
   "outputs": [
    {
     "data": {
      "text/plain": [
       "15473939"
      ]
     },
     "execution_count": 88,
     "metadata": {},
     "output_type": "execute_result"
    }
   ],
   "source": [
    "len(protchem)"
   ]
  },
  {
   "cell_type": "code",
   "execution_count": 8,
   "metadata": {
    "collapsed": true
   },
   "outputs": [],
   "source": [
    "actions_binding = actions[actions['mode'].str.match('binding')]\n",
    "# takes only the rows that have 'binding' in the 'mode' column\n",
    "# actions_binding contains only the pairs that are binding (still duplicates)"
   ]
  },
  {
   "cell_type": "code",
   "execution_count": 9,
   "metadata": {},
   "outputs": [
    {
     "data": {
      "text/plain": [
       "17763861"
      ]
     },
     "execution_count": 9,
     "metadata": {},
     "output_type": "execute_result"
    }
   ],
   "source": [
    "len(actions_binding)\n",
    "# checks to make sure this number is less than original 21 mil"
   ]
  },
  {
   "cell_type": "code",
   "execution_count": 10,
   "metadata": {},
   "outputs": [
    {
     "data": {
      "text/html": [
       "<div>\n",
       "<style>\n",
       "    .dataframe thead tr:only-child th {\n",
       "        text-align: right;\n",
       "    }\n",
       "\n",
       "    .dataframe thead th {\n",
       "        text-align: left;\n",
       "    }\n",
       "\n",
       "    .dataframe tbody tr th {\n",
       "        vertical-align: top;\n",
       "    }\n",
       "</style>\n",
       "<table border=\"1\" class=\"dataframe\">\n",
       "  <thead>\n",
       "    <tr style=\"text-align: right;\">\n",
       "      <th></th>\n",
       "      <th>item_id_a</th>\n",
       "      <th>item_id_b</th>\n",
       "      <th>mode</th>\n",
       "      <th>action</th>\n",
       "      <th>a_is_acting</th>\n",
       "      <th>score</th>\n",
       "    </tr>\n",
       "  </thead>\n",
       "  <tbody>\n",
       "    <tr>\n",
       "      <th>2</th>\n",
       "      <td>9606.ENSP00000353915</td>\n",
       "      <td>CIDs23627457</td>\n",
       "      <td>binding</td>\n",
       "      <td>NaN</td>\n",
       "      <td>f</td>\n",
       "      <td>191</td>\n",
       "    </tr>\n",
       "    <tr>\n",
       "      <th>3</th>\n",
       "      <td>CIDs23627457</td>\n",
       "      <td>9606.ENSP00000353915</td>\n",
       "      <td>binding</td>\n",
       "      <td>NaN</td>\n",
       "      <td>f</td>\n",
       "      <td>191</td>\n",
       "    </tr>\n",
       "    <tr>\n",
       "      <th>4</th>\n",
       "      <td>9606.ENSP00000256906</td>\n",
       "      <td>CIDs44408029</td>\n",
       "      <td>binding</td>\n",
       "      <td>NaN</td>\n",
       "      <td>f</td>\n",
       "      <td>521</td>\n",
       "    </tr>\n",
       "    <tr>\n",
       "      <th>5</th>\n",
       "      <td>CIDs44408029</td>\n",
       "      <td>9606.ENSP00000256906</td>\n",
       "      <td>binding</td>\n",
       "      <td>NaN</td>\n",
       "      <td>f</td>\n",
       "      <td>521</td>\n",
       "    </tr>\n",
       "    <tr>\n",
       "      <th>8</th>\n",
       "      <td>9606.ENSP00000267377</td>\n",
       "      <td>CIDs23590374</td>\n",
       "      <td>binding</td>\n",
       "      <td>NaN</td>\n",
       "      <td>f</td>\n",
       "      <td>159</td>\n",
       "    </tr>\n",
       "    <tr>\n",
       "      <th>9</th>\n",
       "      <td>CIDs23590374</td>\n",
       "      <td>9606.ENSP00000267377</td>\n",
       "      <td>binding</td>\n",
       "      <td>NaN</td>\n",
       "      <td>f</td>\n",
       "      <td>159</td>\n",
       "    </tr>\n",
       "    <tr>\n",
       "      <th>12</th>\n",
       "      <td>9606.ENSP00000295589</td>\n",
       "      <td>CIDs73351473</td>\n",
       "      <td>binding</td>\n",
       "      <td>NaN</td>\n",
       "      <td>f</td>\n",
       "      <td>407</td>\n",
       "    </tr>\n",
       "    <tr>\n",
       "      <th>13</th>\n",
       "      <td>CIDs73351473</td>\n",
       "      <td>9606.ENSP00000295589</td>\n",
       "      <td>binding</td>\n",
       "      <td>NaN</td>\n",
       "      <td>f</td>\n",
       "      <td>407</td>\n",
       "    </tr>\n",
       "    <tr>\n",
       "      <th>16</th>\n",
       "      <td>9606.ENSP00000336630</td>\n",
       "      <td>CIDs10666045</td>\n",
       "      <td>binding</td>\n",
       "      <td>NaN</td>\n",
       "      <td>f</td>\n",
       "      <td>209</td>\n",
       "    </tr>\n",
       "    <tr>\n",
       "      <th>17</th>\n",
       "      <td>CIDs10666045</td>\n",
       "      <td>9606.ENSP00000336630</td>\n",
       "      <td>binding</td>\n",
       "      <td>NaN</td>\n",
       "      <td>f</td>\n",
       "      <td>209</td>\n",
       "    </tr>\n",
       "  </tbody>\n",
       "</table>\n",
       "</div>"
      ],
      "text/plain": [
       "               item_id_a             item_id_b     mode action a_is_acting  \\\n",
       "2   9606.ENSP00000353915          CIDs23627457  binding    NaN           f   \n",
       "3           CIDs23627457  9606.ENSP00000353915  binding    NaN           f   \n",
       "4   9606.ENSP00000256906          CIDs44408029  binding    NaN           f   \n",
       "5           CIDs44408029  9606.ENSP00000256906  binding    NaN           f   \n",
       "8   9606.ENSP00000267377          CIDs23590374  binding    NaN           f   \n",
       "9           CIDs23590374  9606.ENSP00000267377  binding    NaN           f   \n",
       "12  9606.ENSP00000295589          CIDs73351473  binding    NaN           f   \n",
       "13          CIDs73351473  9606.ENSP00000295589  binding    NaN           f   \n",
       "16  9606.ENSP00000336630          CIDs10666045  binding    NaN           f   \n",
       "17          CIDs10666045  9606.ENSP00000336630  binding    NaN           f   \n",
       "\n",
       "    score  \n",
       "2     191  \n",
       "3     191  \n",
       "4     521  \n",
       "5     521  \n",
       "8     159  \n",
       "9     159  \n",
       "12    407  \n",
       "13    407  \n",
       "16    209  \n",
       "17    209  "
      ]
     },
     "execution_count": 10,
     "metadata": {},
     "output_type": "execute_result"
    }
   ],
   "source": [
    "actions_binding.head(10)\n",
    "# visual check"
   ]
  },
  {
   "cell_type": "code",
   "execution_count": 11,
   "metadata": {
    "collapsed": true
   },
   "outputs": [],
   "source": [
    "actions_binding = actions_binding.drop(['mode', 'action', 'a_is_acting', 'score'],axis=1)\n",
    "# only need protein and chemical so this removes other columns"
   ]
  },
  {
   "cell_type": "code",
   "execution_count": 12,
   "metadata": {
    "scrolled": true
   },
   "outputs": [
    {
     "data": {
      "text/html": [
       "<div>\n",
       "<style>\n",
       "    .dataframe thead tr:only-child th {\n",
       "        text-align: right;\n",
       "    }\n",
       "\n",
       "    .dataframe thead th {\n",
       "        text-align: left;\n",
       "    }\n",
       "\n",
       "    .dataframe tbody tr th {\n",
       "        vertical-align: top;\n",
       "    }\n",
       "</style>\n",
       "<table border=\"1\" class=\"dataframe\">\n",
       "  <thead>\n",
       "    <tr style=\"text-align: right;\">\n",
       "      <th></th>\n",
       "      <th>item_id_a</th>\n",
       "      <th>item_id_b</th>\n",
       "    </tr>\n",
       "  </thead>\n",
       "  <tbody>\n",
       "    <tr>\n",
       "      <th>2</th>\n",
       "      <td>9606.ENSP00000353915</td>\n",
       "      <td>CIDs23627457</td>\n",
       "    </tr>\n",
       "    <tr>\n",
       "      <th>3</th>\n",
       "      <td>CIDs23627457</td>\n",
       "      <td>9606.ENSP00000353915</td>\n",
       "    </tr>\n",
       "    <tr>\n",
       "      <th>4</th>\n",
       "      <td>9606.ENSP00000256906</td>\n",
       "      <td>CIDs44408029</td>\n",
       "    </tr>\n",
       "  </tbody>\n",
       "</table>\n",
       "</div>"
      ],
      "text/plain": [
       "              item_id_a             item_id_b\n",
       "2  9606.ENSP00000353915          CIDs23627457\n",
       "3          CIDs23627457  9606.ENSP00000353915\n",
       "4  9606.ENSP00000256906          CIDs44408029"
      ]
     },
     "execution_count": 12,
     "metadata": {},
     "output_type": "execute_result"
    }
   ],
   "source": [
    "actions_binding.head(3)"
   ]
  },
  {
   "cell_type": "code",
   "execution_count": 13,
   "metadata": {
    "collapsed": true
   },
   "outputs": [],
   "source": [
    "actions_binding.values.sort()\n",
    "# sorts each row (default sorts the rows)  "
   ]
  },
  {
   "cell_type": "code",
   "execution_count": 14,
   "metadata": {
    "scrolled": false
   },
   "outputs": [
    {
     "data": {
      "text/html": [
       "<div>\n",
       "<style>\n",
       "    .dataframe thead tr:only-child th {\n",
       "        text-align: right;\n",
       "    }\n",
       "\n",
       "    .dataframe thead th {\n",
       "        text-align: left;\n",
       "    }\n",
       "\n",
       "    .dataframe tbody tr th {\n",
       "        vertical-align: top;\n",
       "    }\n",
       "</style>\n",
       "<table border=\"1\" class=\"dataframe\">\n",
       "  <thead>\n",
       "    <tr style=\"text-align: right;\">\n",
       "      <th></th>\n",
       "      <th>item_id_a</th>\n",
       "      <th>item_id_b</th>\n",
       "    </tr>\n",
       "  </thead>\n",
       "  <tbody>\n",
       "    <tr>\n",
       "      <th>2</th>\n",
       "      <td>9606.ENSP00000353915</td>\n",
       "      <td>CIDs23627457</td>\n",
       "    </tr>\n",
       "    <tr>\n",
       "      <th>3</th>\n",
       "      <td>9606.ENSP00000353915</td>\n",
       "      <td>CIDs23627457</td>\n",
       "    </tr>\n",
       "    <tr>\n",
       "      <th>4</th>\n",
       "      <td>9606.ENSP00000256906</td>\n",
       "      <td>CIDs44408029</td>\n",
       "    </tr>\n",
       "    <tr>\n",
       "      <th>5</th>\n",
       "      <td>9606.ENSP00000256906</td>\n",
       "      <td>CIDs44408029</td>\n",
       "    </tr>\n",
       "    <tr>\n",
       "      <th>8</th>\n",
       "      <td>9606.ENSP00000267377</td>\n",
       "      <td>CIDs23590374</td>\n",
       "    </tr>\n",
       "    <tr>\n",
       "      <th>9</th>\n",
       "      <td>9606.ENSP00000267377</td>\n",
       "      <td>CIDs23590374</td>\n",
       "    </tr>\n",
       "    <tr>\n",
       "      <th>12</th>\n",
       "      <td>9606.ENSP00000295589</td>\n",
       "      <td>CIDs73351473</td>\n",
       "    </tr>\n",
       "    <tr>\n",
       "      <th>13</th>\n",
       "      <td>9606.ENSP00000295589</td>\n",
       "      <td>CIDs73351473</td>\n",
       "    </tr>\n",
       "    <tr>\n",
       "      <th>16</th>\n",
       "      <td>9606.ENSP00000336630</td>\n",
       "      <td>CIDs10666045</td>\n",
       "    </tr>\n",
       "    <tr>\n",
       "      <th>17</th>\n",
       "      <td>9606.ENSP00000336630</td>\n",
       "      <td>CIDs10666045</td>\n",
       "    </tr>\n",
       "    <tr>\n",
       "      <th>20</th>\n",
       "      <td>9606.ENSP00000322924</td>\n",
       "      <td>CIDs57401832</td>\n",
       "    </tr>\n",
       "    <tr>\n",
       "      <th>21</th>\n",
       "      <td>9606.ENSP00000322924</td>\n",
       "      <td>CIDs57401832</td>\n",
       "    </tr>\n",
       "    <tr>\n",
       "      <th>22</th>\n",
       "      <td>9606.ENSP00000279022</td>\n",
       "      <td>CIDs00001567</td>\n",
       "    </tr>\n",
       "    <tr>\n",
       "      <th>23</th>\n",
       "      <td>9606.ENSP00000279022</td>\n",
       "      <td>CIDs00001567</td>\n",
       "    </tr>\n",
       "    <tr>\n",
       "      <th>24</th>\n",
       "      <td>9606.ENSP00000216629</td>\n",
       "      <td>CIDs44308824</td>\n",
       "    </tr>\n",
       "    <tr>\n",
       "      <th>25</th>\n",
       "      <td>9606.ENSP00000216629</td>\n",
       "      <td>CIDs44308824</td>\n",
       "    </tr>\n",
       "    <tr>\n",
       "      <th>26</th>\n",
       "      <td>9606.ENSP00000356094</td>\n",
       "      <td>CIDs10649266</td>\n",
       "    </tr>\n",
       "    <tr>\n",
       "      <th>27</th>\n",
       "      <td>9606.ENSP00000356094</td>\n",
       "      <td>CIDs10649266</td>\n",
       "    </tr>\n",
       "    <tr>\n",
       "      <th>28</th>\n",
       "      <td>9606.ENSP00000275216</td>\n",
       "      <td>CIDs10807028</td>\n",
       "    </tr>\n",
       "    <tr>\n",
       "      <th>29</th>\n",
       "      <td>9606.ENSP00000275216</td>\n",
       "      <td>CIDs10807028</td>\n",
       "    </tr>\n",
       "    <tr>\n",
       "      <th>30</th>\n",
       "      <td>9606.ENSP00000323549</td>\n",
       "      <td>CIDm13520332</td>\n",
       "    </tr>\n",
       "    <tr>\n",
       "      <th>31</th>\n",
       "      <td>9606.ENSP00000323549</td>\n",
       "      <td>CIDm13520332</td>\n",
       "    </tr>\n",
       "    <tr>\n",
       "      <th>32</th>\n",
       "      <td>9606.ENSP00000384665</td>\n",
       "      <td>CIDm09798914</td>\n",
       "    </tr>\n",
       "    <tr>\n",
       "      <th>33</th>\n",
       "      <td>9606.ENSP00000384665</td>\n",
       "      <td>CIDm09798914</td>\n",
       "    </tr>\n",
       "    <tr>\n",
       "      <th>34</th>\n",
       "      <td>9606.ENSP00000219070</td>\n",
       "      <td>CIDs10572544</td>\n",
       "    </tr>\n",
       "    <tr>\n",
       "      <th>35</th>\n",
       "      <td>9606.ENSP00000219070</td>\n",
       "      <td>CIDs10572544</td>\n",
       "    </tr>\n",
       "    <tr>\n",
       "      <th>36</th>\n",
       "      <td>9606.ENSP00000396308</td>\n",
       "      <td>CIDs00467905</td>\n",
       "    </tr>\n",
       "    <tr>\n",
       "      <th>37</th>\n",
       "      <td>9606.ENSP00000396308</td>\n",
       "      <td>CIDs00467905</td>\n",
       "    </tr>\n",
       "    <tr>\n",
       "      <th>40</th>\n",
       "      <td>9606.ENSP00000358301</td>\n",
       "      <td>CIDm44429953</td>\n",
       "    </tr>\n",
       "    <tr>\n",
       "      <th>41</th>\n",
       "      <td>9606.ENSP00000358301</td>\n",
       "      <td>CIDm44429953</td>\n",
       "    </tr>\n",
       "    <tr>\n",
       "      <th>...</th>\n",
       "      <td>...</td>\n",
       "      <td>...</td>\n",
       "    </tr>\n",
       "    <tr>\n",
       "      <th>21773454</th>\n",
       "      <td>9606.ENSP00000316244</td>\n",
       "      <td>CIDs54582478</td>\n",
       "    </tr>\n",
       "    <tr>\n",
       "      <th>21773455</th>\n",
       "      <td>9606.ENSP00000316244</td>\n",
       "      <td>CIDs54582478</td>\n",
       "    </tr>\n",
       "    <tr>\n",
       "      <th>21773456</th>\n",
       "      <td>9606.ENSP00000451560</td>\n",
       "      <td>CIDs44402499</td>\n",
       "    </tr>\n",
       "    <tr>\n",
       "      <th>21773457</th>\n",
       "      <td>9606.ENSP00000451560</td>\n",
       "      <td>CIDs44402499</td>\n",
       "    </tr>\n",
       "    <tr>\n",
       "      <th>21773458</th>\n",
       "      <td>9606.ENSP00000359532</td>\n",
       "      <td>CIDm10087023</td>\n",
       "    </tr>\n",
       "    <tr>\n",
       "      <th>21773459</th>\n",
       "      <td>9606.ENSP00000359532</td>\n",
       "      <td>CIDm10087023</td>\n",
       "    </tr>\n",
       "    <tr>\n",
       "      <th>21773460</th>\n",
       "      <td>9606.ENSP00000359899</td>\n",
       "      <td>CIDs10347373</td>\n",
       "    </tr>\n",
       "    <tr>\n",
       "      <th>21773461</th>\n",
       "      <td>9606.ENSP00000359899</td>\n",
       "      <td>CIDs10347373</td>\n",
       "    </tr>\n",
       "    <tr>\n",
       "      <th>21773462</th>\n",
       "      <td>9606.ENSP00000293897</td>\n",
       "      <td>CIDm49781019</td>\n",
       "    </tr>\n",
       "    <tr>\n",
       "      <th>21773463</th>\n",
       "      <td>9606.ENSP00000293897</td>\n",
       "      <td>CIDm49781019</td>\n",
       "    </tr>\n",
       "    <tr>\n",
       "      <th>21773464</th>\n",
       "      <td>9606.ENSP00000359532</td>\n",
       "      <td>CIDm44186570</td>\n",
       "    </tr>\n",
       "    <tr>\n",
       "      <th>21773465</th>\n",
       "      <td>9606.ENSP00000359532</td>\n",
       "      <td>CIDm44186570</td>\n",
       "    </tr>\n",
       "    <tr>\n",
       "      <th>21773466</th>\n",
       "      <td>9606.ENSP00000350348</td>\n",
       "      <td>CIDs16118946</td>\n",
       "    </tr>\n",
       "    <tr>\n",
       "      <th>21773467</th>\n",
       "      <td>9606.ENSP00000350348</td>\n",
       "      <td>CIDs16118946</td>\n",
       "    </tr>\n",
       "    <tr>\n",
       "      <th>21773468</th>\n",
       "      <td>9606.ENSP00000359532</td>\n",
       "      <td>CIDs44395557</td>\n",
       "    </tr>\n",
       "    <tr>\n",
       "      <th>21773469</th>\n",
       "      <td>9606.ENSP00000359532</td>\n",
       "      <td>CIDs44395557</td>\n",
       "    </tr>\n",
       "    <tr>\n",
       "      <th>21773470</th>\n",
       "      <td>9606.ENSP00000291539</td>\n",
       "      <td>CIDs10593336</td>\n",
       "    </tr>\n",
       "    <tr>\n",
       "      <th>21773471</th>\n",
       "      <td>9606.ENSP00000291539</td>\n",
       "      <td>CIDs10593336</td>\n",
       "    </tr>\n",
       "    <tr>\n",
       "      <th>21773472</th>\n",
       "      <td>9606.ENSP00000380247</td>\n",
       "      <td>CIDs15011832</td>\n",
       "    </tr>\n",
       "    <tr>\n",
       "      <th>21773473</th>\n",
       "      <td>9606.ENSP00000380247</td>\n",
       "      <td>CIDs15011832</td>\n",
       "    </tr>\n",
       "    <tr>\n",
       "      <th>21773476</th>\n",
       "      <td>9606.ENSP00000270349</td>\n",
       "      <td>CIDs09839411</td>\n",
       "    </tr>\n",
       "    <tr>\n",
       "      <th>21773477</th>\n",
       "      <td>9606.ENSP00000270349</td>\n",
       "      <td>CIDs09839411</td>\n",
       "    </tr>\n",
       "    <tr>\n",
       "      <th>21773478</th>\n",
       "      <td>9606.ENSP00000332591</td>\n",
       "      <td>CIDm00003255</td>\n",
       "    </tr>\n",
       "    <tr>\n",
       "      <th>21773479</th>\n",
       "      <td>9606.ENSP00000332591</td>\n",
       "      <td>CIDm00003255</td>\n",
       "    </tr>\n",
       "    <tr>\n",
       "      <th>21773485</th>\n",
       "      <td>9606.ENSP00000358783</td>\n",
       "      <td>CIDm10619325</td>\n",
       "    </tr>\n",
       "    <tr>\n",
       "      <th>21773486</th>\n",
       "      <td>9606.ENSP00000358783</td>\n",
       "      <td>CIDm10619325</td>\n",
       "    </tr>\n",
       "    <tr>\n",
       "      <th>21773487</th>\n",
       "      <td>9606.ENSP00000271357</td>\n",
       "      <td>CIDs10444573</td>\n",
       "    </tr>\n",
       "    <tr>\n",
       "      <th>21773488</th>\n",
       "      <td>9606.ENSP00000271357</td>\n",
       "      <td>CIDs10444573</td>\n",
       "    </tr>\n",
       "    <tr>\n",
       "      <th>21773489</th>\n",
       "      <td>9606.ENSP00000433290</td>\n",
       "      <td>CIDs42618263</td>\n",
       "    </tr>\n",
       "    <tr>\n",
       "      <th>21773490</th>\n",
       "      <td>9606.ENSP00000433290</td>\n",
       "      <td>CIDs42618263</td>\n",
       "    </tr>\n",
       "  </tbody>\n",
       "</table>\n",
       "<p>17763861 rows × 2 columns</p>\n",
       "</div>"
      ],
      "text/plain": [
       "                     item_id_a     item_id_b\n",
       "2         9606.ENSP00000353915  CIDs23627457\n",
       "3         9606.ENSP00000353915  CIDs23627457\n",
       "4         9606.ENSP00000256906  CIDs44408029\n",
       "5         9606.ENSP00000256906  CIDs44408029\n",
       "8         9606.ENSP00000267377  CIDs23590374\n",
       "9         9606.ENSP00000267377  CIDs23590374\n",
       "12        9606.ENSP00000295589  CIDs73351473\n",
       "13        9606.ENSP00000295589  CIDs73351473\n",
       "16        9606.ENSP00000336630  CIDs10666045\n",
       "17        9606.ENSP00000336630  CIDs10666045\n",
       "20        9606.ENSP00000322924  CIDs57401832\n",
       "21        9606.ENSP00000322924  CIDs57401832\n",
       "22        9606.ENSP00000279022  CIDs00001567\n",
       "23        9606.ENSP00000279022  CIDs00001567\n",
       "24        9606.ENSP00000216629  CIDs44308824\n",
       "25        9606.ENSP00000216629  CIDs44308824\n",
       "26        9606.ENSP00000356094  CIDs10649266\n",
       "27        9606.ENSP00000356094  CIDs10649266\n",
       "28        9606.ENSP00000275216  CIDs10807028\n",
       "29        9606.ENSP00000275216  CIDs10807028\n",
       "30        9606.ENSP00000323549  CIDm13520332\n",
       "31        9606.ENSP00000323549  CIDm13520332\n",
       "32        9606.ENSP00000384665  CIDm09798914\n",
       "33        9606.ENSP00000384665  CIDm09798914\n",
       "34        9606.ENSP00000219070  CIDs10572544\n",
       "35        9606.ENSP00000219070  CIDs10572544\n",
       "36        9606.ENSP00000396308  CIDs00467905\n",
       "37        9606.ENSP00000396308  CIDs00467905\n",
       "40        9606.ENSP00000358301  CIDm44429953\n",
       "41        9606.ENSP00000358301  CIDm44429953\n",
       "...                        ...           ...\n",
       "21773454  9606.ENSP00000316244  CIDs54582478\n",
       "21773455  9606.ENSP00000316244  CIDs54582478\n",
       "21773456  9606.ENSP00000451560  CIDs44402499\n",
       "21773457  9606.ENSP00000451560  CIDs44402499\n",
       "21773458  9606.ENSP00000359532  CIDm10087023\n",
       "21773459  9606.ENSP00000359532  CIDm10087023\n",
       "21773460  9606.ENSP00000359899  CIDs10347373\n",
       "21773461  9606.ENSP00000359899  CIDs10347373\n",
       "21773462  9606.ENSP00000293897  CIDm49781019\n",
       "21773463  9606.ENSP00000293897  CIDm49781019\n",
       "21773464  9606.ENSP00000359532  CIDm44186570\n",
       "21773465  9606.ENSP00000359532  CIDm44186570\n",
       "21773466  9606.ENSP00000350348  CIDs16118946\n",
       "21773467  9606.ENSP00000350348  CIDs16118946\n",
       "21773468  9606.ENSP00000359532  CIDs44395557\n",
       "21773469  9606.ENSP00000359532  CIDs44395557\n",
       "21773470  9606.ENSP00000291539  CIDs10593336\n",
       "21773471  9606.ENSP00000291539  CIDs10593336\n",
       "21773472  9606.ENSP00000380247  CIDs15011832\n",
       "21773473  9606.ENSP00000380247  CIDs15011832\n",
       "21773476  9606.ENSP00000270349  CIDs09839411\n",
       "21773477  9606.ENSP00000270349  CIDs09839411\n",
       "21773478  9606.ENSP00000332591  CIDm00003255\n",
       "21773479  9606.ENSP00000332591  CIDm00003255\n",
       "21773485  9606.ENSP00000358783  CIDm10619325\n",
       "21773486  9606.ENSP00000358783  CIDm10619325\n",
       "21773487  9606.ENSP00000271357  CIDs10444573\n",
       "21773488  9606.ENSP00000271357  CIDs10444573\n",
       "21773489  9606.ENSP00000433290  CIDs42618263\n",
       "21773490  9606.ENSP00000433290  CIDs42618263\n",
       "\n",
       "[17763861 rows x 2 columns]"
      ]
     },
     "execution_count": 14,
     "metadata": {},
     "output_type": "execute_result"
    }
   ],
   "source": [
    "actions_binding\n",
    "# visual check to see that each column has one kind of value (all protein/chemical) "
   ]
  },
  {
   "cell_type": "code",
   "execution_count": 15,
   "metadata": {
    "collapsed": true
   },
   "outputs": [],
   "source": [
    "testorder = actions_binding['item_id_b'].str.contains('9606.ENSP')\n",
    "# tests to see if any rows have a switched order\n",
    "# returns Boolean series with True for rows that are switched"
   ]
  },
  {
   "cell_type": "code",
   "execution_count": 16,
   "metadata": {},
   "outputs": [
    {
     "data": {
      "text/plain": [
       "False"
      ]
     },
     "execution_count": 16,
     "metadata": {},
     "output_type": "execute_result"
    }
   ],
   "source": [
    "any(testorder)\n",
    "# checks to see if any True values appear in series\n",
    "# result: no rows are switched"
   ]
  },
  {
   "cell_type": "code",
   "execution_count": 17,
   "metadata": {
    "collapsed": true
   },
   "outputs": [],
   "source": [
    "actions_binding = actions_binding.drop_duplicates() \n",
    "# drops duplicates"
   ]
  },
  {
   "cell_type": "code",
   "execution_count": 18,
   "metadata": {},
   "outputs": [
    {
     "data": {
      "text/plain": [
       "8877688"
      ]
     },
     "execution_count": 18,
     "metadata": {},
     "output_type": "execute_result"
    }
   ],
   "source": [
    "len(actions_binding)\n",
    "# this is ~ half the 17 mil binding pairs (not exact because some pairs only appeared once)  "
   ]
  },
  {
   "cell_type": "code",
   "execution_count": 19,
   "metadata": {
    "collapsed": true
   },
   "outputs": [],
   "source": [
    "testdup = actions_binding.duplicated()\n",
    "# returns Boolean series where True indicates the row is a duplicate of another row"
   ]
  },
  {
   "cell_type": "code",
   "execution_count": 20,
   "metadata": {},
   "outputs": [
    {
     "data": {
      "text/plain": [
       "False"
      ]
     },
     "execution_count": 20,
     "metadata": {},
     "output_type": "execute_result"
    }
   ],
   "source": [
    "any(testdup)\n",
    "# tells us if any True values exist in the series (False indicates no True values were found)\n",
    "# result: all duplicates were successfully removed"
   ]
  },
  {
   "cell_type": "code",
   "execution_count": 21,
   "metadata": {
    "collapsed": true
   },
   "outputs": [],
   "source": [
    "actions_binding = actions_binding.iloc[:, ::-1]\n",
    "# iloc indexer reverses order of sequence of columns\n",
    "# : takes all the rows, and ::-1 steps backwards through the columns\n",
    "\n",
    "actions_binding.columns = ['chemical', 'protein']\n",
    "# renames columns"
   ]
  },
  {
   "cell_type": "code",
   "execution_count": 22,
   "metadata": {},
   "outputs": [
    {
     "data": {
      "text/html": [
       "<div>\n",
       "<style>\n",
       "    .dataframe thead tr:only-child th {\n",
       "        text-align: right;\n",
       "    }\n",
       "\n",
       "    .dataframe thead th {\n",
       "        text-align: left;\n",
       "    }\n",
       "\n",
       "    .dataframe tbody tr th {\n",
       "        vertical-align: top;\n",
       "    }\n",
       "</style>\n",
       "<table border=\"1\" class=\"dataframe\">\n",
       "  <thead>\n",
       "    <tr style=\"text-align: right;\">\n",
       "      <th></th>\n",
       "      <th>chemical</th>\n",
       "      <th>protein</th>\n",
       "    </tr>\n",
       "  </thead>\n",
       "  <tbody>\n",
       "    <tr>\n",
       "      <th>2</th>\n",
       "      <td>CIDs23627457</td>\n",
       "      <td>9606.ENSP00000353915</td>\n",
       "    </tr>\n",
       "    <tr>\n",
       "      <th>4</th>\n",
       "      <td>CIDs44408029</td>\n",
       "      <td>9606.ENSP00000256906</td>\n",
       "    </tr>\n",
       "    <tr>\n",
       "      <th>8</th>\n",
       "      <td>CIDs23590374</td>\n",
       "      <td>9606.ENSP00000267377</td>\n",
       "    </tr>\n",
       "  </tbody>\n",
       "</table>\n",
       "</div>"
      ],
      "text/plain": [
       "       chemical               protein\n",
       "2  CIDs23627457  9606.ENSP00000353915\n",
       "4  CIDs44408029  9606.ENSP00000256906\n",
       "8  CIDs23590374  9606.ENSP00000267377"
      ]
     },
     "execution_count": 22,
     "metadata": {},
     "output_type": "execute_result"
    }
   ],
   "source": [
    "actions_binding.head(3)\n",
    "# visual check"
   ]
  },
  {
   "cell_type": "code",
   "execution_count": 23,
   "metadata": {},
   "outputs": [],
   "source": [
    "protchem_binding = pd.merge(actions_binding, protchem, on=['chemical', 'protein'])\n",
    "# inner merge of actions_binding and protchem by looking at 'chemical' and 'protein' columns\n",
    "# takes pairs that are in common between the two dataframes and merges columns"
   ]
  },
  {
   "cell_type": "code",
   "execution_count": 24,
   "metadata": {},
   "outputs": [
    {
     "data": {
      "text/plain": [
       "8778298"
      ]
     },
     "execution_count": 24,
     "metadata": {},
     "output_type": "execute_result"
    }
   ],
   "source": [
    "len(protchem_binding)\n",
    "# indicates that ~100,000 pairs are in actions_binding but not in protchem\n",
    "# this is fine because we only want the pairs that are in both"
   ]
  },
  {
   "cell_type": "code",
   "execution_count": 25,
   "metadata": {},
   "outputs": [
    {
     "data": {
      "text/html": [
       "<div>\n",
       "<style>\n",
       "    .dataframe thead tr:only-child th {\n",
       "        text-align: right;\n",
       "    }\n",
       "\n",
       "    .dataframe thead th {\n",
       "        text-align: left;\n",
       "    }\n",
       "\n",
       "    .dataframe tbody tr th {\n",
       "        vertical-align: top;\n",
       "    }\n",
       "</style>\n",
       "<table border=\"1\" class=\"dataframe\">\n",
       "  <thead>\n",
       "    <tr style=\"text-align: right;\">\n",
       "      <th></th>\n",
       "      <th>chemical</th>\n",
       "      <th>protein</th>\n",
       "      <th>experimental</th>\n",
       "      <th>prediction</th>\n",
       "      <th>database</th>\n",
       "      <th>textmining</th>\n",
       "      <th>combined_score</th>\n",
       "    </tr>\n",
       "  </thead>\n",
       "  <tbody>\n",
       "    <tr>\n",
       "      <th>0</th>\n",
       "      <td>CIDs23627457</td>\n",
       "      <td>9606.ENSP00000353915</td>\n",
       "      <td>191</td>\n",
       "      <td>0</td>\n",
       "      <td>0</td>\n",
       "      <td>0</td>\n",
       "      <td>191</td>\n",
       "    </tr>\n",
       "    <tr>\n",
       "      <th>1</th>\n",
       "      <td>CIDs44408029</td>\n",
       "      <td>9606.ENSP00000256906</td>\n",
       "      <td>521</td>\n",
       "      <td>0</td>\n",
       "      <td>0</td>\n",
       "      <td>0</td>\n",
       "      <td>521</td>\n",
       "    </tr>\n",
       "    <tr>\n",
       "      <th>2</th>\n",
       "      <td>CIDs23590374</td>\n",
       "      <td>9606.ENSP00000267377</td>\n",
       "      <td>159</td>\n",
       "      <td>170</td>\n",
       "      <td>0</td>\n",
       "      <td>0</td>\n",
       "      <td>282</td>\n",
       "    </tr>\n",
       "  </tbody>\n",
       "</table>\n",
       "</div>"
      ],
      "text/plain": [
       "       chemical               protein  experimental  prediction  database  \\\n",
       "0  CIDs23627457  9606.ENSP00000353915           191           0         0   \n",
       "1  CIDs44408029  9606.ENSP00000256906           521           0         0   \n",
       "2  CIDs23590374  9606.ENSP00000267377           159         170         0   \n",
       "\n",
       "   textmining  combined_score  \n",
       "0           0             191  \n",
       "1           0             521  \n",
       "2           0             282  "
      ]
     },
     "execution_count": 25,
     "metadata": {},
     "output_type": "execute_result"
    }
   ],
   "source": [
    "protchem_binding.head(3)"
   ]
  },
  {
   "cell_type": "code",
   "execution_count": 115,
   "metadata": {
    "collapsed": true
   },
   "outputs": [],
   "source": [
    "protchem_binding.to_csv('protchem_binding.tsv', sep='\\t')\n",
    "actions_binding.to_csv('actions_binding.tsv', sep='\\t') "
   ]
  },
  {
   "cell_type": "code",
   "execution_count": 26,
   "metadata": {
    "collapsed": true
   },
   "outputs": [],
   "source": [
    "%matplotlib inline\n",
    "# enables ipython to display matplotlib graphs"
   ]
  },
  {
   "cell_type": "code",
   "execution_count": 43,
   "metadata": {},
   "outputs": [
    {
     "data": {
      "text/plain": [
       "<matplotlib.text.Text at 0x113310b50>"
      ]
     },
     "execution_count": 43,
     "metadata": {},
     "output_type": "execute_result"
    },
    {
     "data": {
      "image/png": "[encoded data removed]",
      "text/plain": [
       "<matplotlib.figure.Figure at 0x1118618d0>"
      ]
     },
     "metadata": {},
     "output_type": "display_data"
    }
   ],
   "source": [
    "hist_plot = protchem_binding['experimental'].hist(bins=100)\n",
    "hist_plot.set_title('Experimental Score Histogram')\n",
    "hist_plot.set_xlabel('Experimental Score')\n",
    "hist_plot.set_ylabel('Frequency')"
   ]
  },
  {
   "cell_type": "code",
   "execution_count": 30,
   "metadata": {},
   "outputs": [],
   "source": [
    "protchem_experimental = protchem_binding['experimental'] "
   ]
  },
  {
   "cell_type": "code",
   "execution_count": 31,
   "metadata": {
    "scrolled": true
   },
   "outputs": [
    {
     "data": {
      "text/plain": [
       "0    191\n",
       "1    521\n",
       "2    159\n",
       "3    267\n",
       "4    209\n",
       "Name: experimental, dtype: int64"
      ]
     },
     "execution_count": 31,
     "metadata": {},
     "output_type": "execute_result"
    }
   ],
   "source": [
    "protchem_experimental.head(5)"
   ]
  },
  {
   "cell_type": "code",
   "execution_count": 32,
   "metadata": {
    "collapsed": true
   },
   "outputs": [],
   "source": [
    "protchem_experimental = protchem_experimental[protchem_experimental !=0]"
   ]
  },
  {
   "cell_type": "code",
   "execution_count": 33,
   "metadata": {},
   "outputs": [
    {
     "data": {
      "text/plain": [
       "8759065"
      ]
     },
     "execution_count": 33,
     "metadata": {},
     "output_type": "execute_result"
    }
   ],
   "source": [
    "len(protchem_experimental) "
   ]
  },
  {
   "cell_type": "code",
   "execution_count": 34,
   "metadata": {
    "collapsed": true
   },
   "outputs": [],
   "source": [
    "import numpy as np"
   ]
  },
  {
   "cell_type": "code",
   "execution_count": 35,
   "metadata": {},
   "outputs": [
    {
     "data": {
      "text/plain": [
       "0          2.281033\n",
       "1          2.716838\n",
       "2          2.201397\n",
       "3          2.426511\n",
       "4          2.320146\n",
       "5          2.359835\n",
       "6          2.563481\n",
       "7          2.318063\n",
       "8          2.404834\n",
       "9          2.220108\n",
       "10         2.403121\n",
       "11         2.378398\n",
       "12         2.767898\n",
       "13         2.946452\n",
       "14         2.403121\n",
       "15         2.359835\n",
       "16         2.176091\n",
       "17         2.561101\n",
       "18         2.340444\n",
       "19         2.181844\n",
       "20         2.313867\n",
       "21         2.220108\n",
       "22         2.618048\n",
       "23         2.344392\n",
       "24         2.190332\n",
       "25         2.897077\n",
       "26         2.484300\n",
       "27         2.501059\n",
       "28         2.517196\n",
       "29         2.309630\n",
       "             ...   \n",
       "8778268    2.230449\n",
       "8778269    2.401401\n",
       "8778270    2.220108\n",
       "8778271    2.252853\n",
       "8778272    2.313867\n",
       "8778273    2.344392\n",
       "8778274    2.557507\n",
       "8778275    2.262451\n",
       "8778276    2.227887\n",
       "8778277    2.367356\n",
       "8778278    2.684845\n",
       "8778279    2.545307\n",
       "8778280    2.682145\n",
       "8778281    2.496930\n",
       "8778282    2.523746\n",
       "8778283    2.513218\n",
       "8778284    2.201397\n",
       "8778285    2.292256\n",
       "8778286    2.204120\n",
       "8778287    2.465383\n",
       "8778288    2.469822\n",
       "8778289    2.434569\n",
       "8778290    2.232996\n",
       "8778291    2.414973\n",
       "8778292    2.421604\n",
       "8778293    2.442480\n",
       "8778294    2.195900\n",
       "8778295    2.328380\n",
       "8778296    2.235528\n",
       "8778297    2.281033\n",
       "Name: experimental, Length: 8759065, dtype: float64"
      ]
     },
     "execution_count": 35,
     "metadata": {},
     "output_type": "execute_result"
    }
   ],
   "source": [
    "protchem_experimental = np.log10(protchem_experimental) \n",
    "protchem_experimental"
   ]
  },
  {
   "cell_type": "code",
   "execution_count": 61,
   "metadata": {},
   "outputs": [
    {
     "data": {
      "text/plain": [
       "<matplotlib.text.Text at 0x11dea7750>"
      ]
     },
     "execution_count": 61,
     "metadata": {},
     "output_type": "execute_result"
    },
    {
     "data": {
      "image/png": "[encoded data removed]",
      "text/plain": [
       "<matplotlib.figure.Figure at 0x11de8bf50>"
      ]
     },
     "metadata": {},
     "output_type": "display_data"
    }
   ],
   "source": [
    "hist_plot = protchem_experimental.hist(bins=100)\n",
    "hist_plot.set_title('Experimental Score Histogram')\n",
    "hist_plot.set_xlabel('Experimental Score')\n",
    "hist_plot.set_ylabel('Frequency')"
   ]
  },
  {
   "cell_type": "code",
   "execution_count": 42,
   "metadata": {},
   "outputs": [
    {
     "data": {
      "text/plain": [
       "count    8.759065e+06\n",
       "mean     2.413283e+00\n",
       "std      1.608865e-01\n",
       "min      1.954243e+00\n",
       "25%      2.309630e+00\n",
       "50%      2.382017e+00\n",
       "75%      2.489958e+00\n",
       "max      2.999131e+00\n",
       "Name: experimental, dtype: float64"
      ]
     },
     "execution_count": 42,
     "metadata": {},
     "output_type": "execute_result"
    }
   ],
   "source": [
    "protchem_experimental.describe()\n",
    "# mean: 2.413\n",
    "# median: 2.382\n",
    "# right skew"
   ]
  },
  {
   "cell_type": "code",
   "execution_count": null,
   "metadata": {
    "collapsed": true
   },
   "outputs": [],
   "source": []
  }
 ],
 "metadata": {
  "kernelspec": {
   "display_name": "deeplearning",
   "language": "python",
   "name": "deeplearning"
  },
  "language_info": {
   "codemirror_mode": {
    "name": "ipython",
    "version": 2
   },
   "file_extension": ".py",
   "mimetype": "text/x-python",
   "name": "python",
   "nbconvert_exporter": "python",
   "pygments_lexer": "ipython2",
   "version": "2.7.14"
  }
 },
 "nbformat": 4,
 "nbformat_minor": 2
}
