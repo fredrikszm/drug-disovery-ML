{
 "cells": [
  {
   "cell_type": "markdown",
   "metadata": {},
   "source": [
    "## Filtering dataset by CIDm files only and Setting Experimental Score Threshold\n",
    "In order to avoid redundancy that could lead to overfitting, decided to include just one chemical file type in the dataset (both types defined below). After realizing that CIDs type did not have 1:1 mapping of chemical id to SMILES sequence (and CIDm did), I chose to use CIDm. The dataset was then filtered by setting an experimental score threshold in order to only include binding pairs that have high binding affinity.\n",
    "- CIDs: stereospecific and static\n",
    "- CIDm: represented with rotatable bonds (non stereospecific)"
   ]
  },
  {
   "cell_type": "code",
   "execution_count": 1,
   "metadata": {},
   "outputs": [],
   "source": [
    "import pandas as pd"
   ]
  },
  {
   "cell_type": "code",
   "execution_count": 2,
   "metadata": {},
   "outputs": [],
   "source": [
    "%matplotlib inline"
   ]
  },
  {
   "cell_type": "code",
   "execution_count": 3,
   "metadata": {},
   "outputs": [],
   "source": [
    "protchem_binding = pd.read_table('protchem_binding.tsv') "
   ]
  },
  {
   "cell_type": "code",
   "execution_count": 4,
   "metadata": {},
   "outputs": [
    {
     "data": {
      "text/html": [
       "<div>\n",
       "<style scoped>\n",
       "    .dataframe tbody tr th:only-of-type {\n",
       "        vertical-align: middle;\n",
       "    }\n",
       "\n",
       "    .dataframe tbody tr th {\n",
       "        vertical-align: top;\n",
       "    }\n",
       "\n",
       "    .dataframe thead th {\n",
       "        text-align: right;\n",
       "    }\n",
       "</style>\n",
       "<table border=\"1\" class=\"dataframe\">\n",
       "  <thead>\n",
       "    <tr style=\"text-align: right;\">\n",
       "      <th></th>\n",
       "      <th>Unnamed: 0</th>\n",
       "      <th>chemical</th>\n",
       "      <th>protein</th>\n",
       "      <th>experimental</th>\n",
       "      <th>prediction</th>\n",
       "      <th>database</th>\n",
       "      <th>textmining</th>\n",
       "      <th>combined_score</th>\n",
       "    </tr>\n",
       "  </thead>\n",
       "  <tbody>\n",
       "    <tr>\n",
       "      <th>0</th>\n",
       "      <td>0</td>\n",
       "      <td>CIDs23627457</td>\n",
       "      <td>9606.ENSP00000353915</td>\n",
       "      <td>191</td>\n",
       "      <td>0</td>\n",
       "      <td>0</td>\n",
       "      <td>0</td>\n",
       "      <td>191</td>\n",
       "    </tr>\n",
       "    <tr>\n",
       "      <th>1</th>\n",
       "      <td>1</td>\n",
       "      <td>CIDs44408029</td>\n",
       "      <td>9606.ENSP00000256906</td>\n",
       "      <td>521</td>\n",
       "      <td>0</td>\n",
       "      <td>0</td>\n",
       "      <td>0</td>\n",
       "      <td>521</td>\n",
       "    </tr>\n",
       "    <tr>\n",
       "      <th>2</th>\n",
       "      <td>2</td>\n",
       "      <td>CIDs23590374</td>\n",
       "      <td>9606.ENSP00000267377</td>\n",
       "      <td>159</td>\n",
       "      <td>170</td>\n",
       "      <td>0</td>\n",
       "      <td>0</td>\n",
       "      <td>282</td>\n",
       "    </tr>\n",
       "    <tr>\n",
       "      <th>3</th>\n",
       "      <td>3</td>\n",
       "      <td>CIDs73351473</td>\n",
       "      <td>9606.ENSP00000295589</td>\n",
       "      <td>267</td>\n",
       "      <td>0</td>\n",
       "      <td>0</td>\n",
       "      <td>0</td>\n",
       "      <td>267</td>\n",
       "    </tr>\n",
       "    <tr>\n",
       "      <th>4</th>\n",
       "      <td>4</td>\n",
       "      <td>CIDs10666045</td>\n",
       "      <td>9606.ENSP00000336630</td>\n",
       "      <td>209</td>\n",
       "      <td>0</td>\n",
       "      <td>0</td>\n",
       "      <td>0</td>\n",
       "      <td>209</td>\n",
       "    </tr>\n",
       "  </tbody>\n",
       "</table>\n",
       "</div>"
      ],
      "text/plain": [
       "   Unnamed: 0      chemical               protein  experimental  prediction  \\\n",
       "0           0  CIDs23627457  9606.ENSP00000353915           191           0   \n",
       "1           1  CIDs44408029  9606.ENSP00000256906           521           0   \n",
       "2           2  CIDs23590374  9606.ENSP00000267377           159         170   \n",
       "3           3  CIDs73351473  9606.ENSP00000295589           267           0   \n",
       "4           4  CIDs10666045  9606.ENSP00000336630           209           0   \n",
       "\n",
       "   database  textmining  combined_score  \n",
       "0         0           0             191  \n",
       "1         0           0             521  \n",
       "2         0           0             282  \n",
       "3         0           0             267  \n",
       "4         0           0             209  "
      ]
     },
     "execution_count": 4,
     "metadata": {},
     "output_type": "execute_result"
    }
   ],
   "source": [
    "protchem_binding.head(5)\n",
    "# recall this contains all the binding chemical-protein pairs\n",
    "# no threshold for experimental value has been set yet"
   ]
  },
  {
   "cell_type": "code",
   "execution_count": 41,
   "metadata": {},
   "outputs": [],
   "source": [
    "pc_binding = protchem_binding.drop(['Unnamed: 0', 'prediction', 'database', 'textmining', 'combined_score'], axis=1) \n",
    "# result just has chemical, protein, and experimental columns"
   ]
  },
  {
   "cell_type": "code",
   "execution_count": 42,
   "metadata": {},
   "outputs": [],
   "source": [
    "pc_binding = pc_binding[~pc_binding['chemical'].str.contains(\"CIDs\")] \n",
    "# only keeps pairs with CIDm (decided to use just CIDm chemical IDs) "
   ]
  },
  {
   "cell_type": "code",
   "execution_count": 43,
   "metadata": {},
   "outputs": [],
   "source": [
    "testorder1 = pc_binding['chemical'].str.contains(\"CIDs\") \n",
    "# just to check if any CIDs remain in df"
   ]
  },
  {
   "cell_type": "code",
   "execution_count": 44,
   "metadata": {},
   "outputs": [
    {
     "data": {
      "text/plain": [
       "False"
      ]
     },
     "execution_count": 44,
     "metadata": {},
     "output_type": "execute_result"
    }
   ],
   "source": [
    "any(testorder1) "
   ]
  },
  {
   "cell_type": "code",
   "execution_count": 45,
   "metadata": {},
   "outputs": [],
   "source": [
    "pc_binding = pc_binding.sort_values(by=['chemical']) \n",
    "# sorts rows according to CIDm ID #... ascending order"
   ]
  },
  {
   "cell_type": "code",
   "execution_count": 46,
   "metadata": {},
   "outputs": [],
   "source": [
    "pc_binding = pc_binding.reset_index(drop=True) \n",
    "# resets the index"
   ]
  },
  {
   "cell_type": "code",
   "execution_count": 47,
   "metadata": {},
   "outputs": [
    {
     "data": {
      "text/plain": [
       "4232486"
      ]
     },
     "execution_count": 47,
     "metadata": {},
     "output_type": "execute_result"
    }
   ],
   "source": [
    "len(pc_binding) "
   ]
  },
  {
   "cell_type": "code",
   "execution_count": 48,
   "metadata": {},
   "outputs": [],
   "source": [
    "pc_binding = pc_binding[pc_binding.experimental !=0] \n",
    "# removes rows (interaction pairs) with an experimental value of 0"
   ]
  },
  {
   "cell_type": "code",
   "execution_count": 49,
   "metadata": {},
   "outputs": [
    {
     "data": {
      "text/plain": [
       "4223711"
      ]
     },
     "execution_count": 49,
     "metadata": {},
     "output_type": "execute_result"
    }
   ],
   "source": [
    "len(pc_binding) "
   ]
  },
  {
   "cell_type": "code",
   "execution_count": 39,
   "metadata": {},
   "outputs": [
    {
     "data": {
      "text/plain": [
       "Text(0,0.5,u'Frequency')"
      ]
     },
     "execution_count": 39,
     "metadata": {},
     "output_type": "execute_result"
    },
    {
     "data": {
      "image/png": "[encoded data removed]",
      "text/plain": [
       "<matplotlib.figure.Figure at 0x10b560090>"
      ]
     },
     "metadata": {},
     "output_type": "display_data"
    }
   ],
   "source": [
    "hist_plot = pc_binding.experimental.hist(bins=100)\n",
    "hist_plot.set_title('Experimental Score Histogram')\n",
    "hist_plot.set_xlabel('Experimental Score')\n",
    "hist_plot.set_ylabel('Frequency') \n",
    "# distribution of experimental values"
   ]
  },
  {
   "cell_type": "code",
   "execution_count": 61,
   "metadata": {},
   "outputs": [],
   "source": [
    "pc_binding = pc_binding[pc_binding.experimental >=200] \n",
    "# go with 200 as threshold now (keeping 75% of data) and change later if needed"
   ]
  },
  {
   "cell_type": "code",
   "execution_count": 62,
   "metadata": {},
   "outputs": [],
   "source": [
    "pc_binding.to_csv('pc_binding.tsv', sep='\\t') "
   ]
  },
  {
   "cell_type": "code",
   "execution_count": null,
   "metadata": {},
   "outputs": [],
   "source": []
  }
 ],
 "metadata": {
  "kernelspec": {
   "display_name": "deeplearning",
   "language": "python",
   "name": "deeplearning"
  },
  "language_info": {
   "codemirror_mode": {
    "name": "ipython",
    "version": 2
   },
   "file_extension": ".py",
   "mimetype": "text/x-python",
   "name": "python",
   "nbconvert_exporter": "python",
   "pygments_lexer": "ipython2",
   "version": "2.7.14"
  }
 },
 "nbformat": 4,
 "nbformat_minor": 2
}
